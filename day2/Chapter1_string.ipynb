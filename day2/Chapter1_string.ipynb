{
 "cells": [
  {
   "attachments": {
    "image.png": {
     "image/png": "[encoded data removed]"
    }
   },
   "cell_type": "markdown",
   "id": "4664cad0",
   "metadata": {},
   "source": [
    "![image.png](attachment:image.png)"
   ]
  },
  {
   "cell_type": "markdown",
   "id": "f5601a9c",
   "metadata": {},
   "source": [
    "### 01_intro_to_strings "
   ]
  },
  {
   "cell_type": "markdown",
   "id": "330fa003",
   "metadata": {},
   "source": [
    "Text is a string data type. Any data type written as text is a string. Any data under single, double or triple quote are strings. There are different string methods and built-in functions to deal with string data types. To check the length of a string use the len() method."
   ]
  },
  {
   "cell_type": "markdown",
   "id": "18b04c1f",
   "metadata": {},
   "source": [
    "String Concatenation /n\n",
    "We can connect strings together. Merging or connecting strings is called concatenation. See the example below:"
   ]
  },
  {
   "cell_type": "code",
   "execution_count": 14,
   "id": "e82b7074",
   "metadata": {},
   "outputs": [
    {
     "name": "stdout",
     "output_type": "stream",
     "text": [
      "Python Training\n",
      "6\n",
      "8\n",
      "False\n",
      "15\n"
     ]
    }
   ],
   "source": [
    "first_name = 'Python'\n",
    "last_name = 'Training'\n",
    "space = ' '\n",
    "full_name = first_name  +  space + last_name\n",
    "print(full_name) # Python Training\n",
    "# Checking the length of a string using len() built-in function\n",
    "print(len(first_name))  # 6\n",
    "print(len(last_name))   # 8\n",
    "print(len(first_name) > len(last_name)) # false\n",
    "print(len(full_name)) # 15"
   ]
  },
  {
   "cell_type": "code",
   "execution_count": 15,
   "id": "b5cd1382",
   "metadata": {},
   "outputs": [
    {
     "name": "stdout",
     "output_type": "stream",
     "text": [
      "Dhr\n",
      "h\n"
     ]
    }
   ],
   "source": [
    "name = \"Dhruv\"\n",
    "\n",
    "nameshort = name[0:3] # start from index 0 all the way till 3 (excluding 3)\n",
    "print(nameshort)\n",
    "character1 = name[1]\n",
    "print(character1)"
   ]
  },
  {
   "cell_type": "code",
   "execution_count": 16,
   "id": "6c141e4b",
   "metadata": {},
   "outputs": [
    {
     "name": "stdout",
     "output_type": "stream",
     "text": [
      "I am Dhruv Kumar. I teach Python & Gen AI\n"
     ]
    }
   ],
   "source": [
    "first_name = 'Dhruv'\n",
    "last_name = 'Kumar'\n",
    "\n",
    "\n",
    "language = 'Python & Gen AI'\n",
    "\n",
    "formated_string = 'I am {} {}. I teach {}'.format(first_name, last_name, language)\n",
    "print(formated_string)"
   ]
  },
  {
   "cell_type": "code",
   "execution_count": 20,
   "id": "0cd2d8f3",
   "metadata": {},
   "outputs": [
    {
     "name": "stdout",
     "output_type": "stream",
     "text": [
      "The area of a circle with a radius 150 is 70650.0000.\n"
     ]
    }
   ],
   "source": [
    "# Strings  and numbers\n",
    "radius = 150\n",
    "pi = 3.14\n",
    "area = pi * radius ** 2\n",
    "formated_string = 'The area of a circle with a radius {} is {:.4f}.'.format(radius, area) # 2 digits after decimal\n",
    "print(formated_string)"
   ]
  },
  {
   "cell_type": "markdown",
   "id": "175c2c3a",
   "metadata": {},
   "source": [
    "## 02_negative_slicing"
   ]
  },
  {
   "cell_type": "code",
   "execution_count": 27,
   "id": "ea799d77",
   "metadata": {},
   "outputs": [
    {
     "name": "stdout",
     "output_type": "stream",
     "text": [
      "yth\n",
      "Pyth\n",
      "ython\n",
      "ytho\n"
     ]
    }
   ],
   "source": [
    "name = \"Python\"\n",
    "\n",
    "#print(name[0:3])\n",
    "\n",
    "#print(name[-4: -1])\n",
    "print(name[1:4])\n",
    "\n",
    "print(name[:4]) # is same as print(name[0:4])\n",
    "print(name[1:]) # is same as print(name[1:5])\n",
    "print(name[1:5])"
   ]
  },
  {
   "cell_type": "markdown",
   "id": "7dc8784f",
   "metadata": {},
   "source": [
    "### 03_str_functions"
   ]
  },
  {
   "cell_type": "code",
   "execution_count": 35,
   "id": "961306e0",
   "metadata": {},
   "outputs": [
    {
     "name": "stdout",
     "output_type": "stream",
     "text": [
      "6\n",
      "True\n",
      "True\n",
      "Python\n"
     ]
    }
   ],
   "source": [
    "name = \"python\"\n",
    "\n",
    "print(len(name))\n",
    "print(name.endswith(\"on\"))\n",
    "\n",
    "print(name.startswith(\"py\"))\n",
    "\n",
    "print(name.capitalize())"
   ]
  },
  {
   "cell_type": "markdown",
   "id": "5edcc18b",
   "metadata": {},
   "source": [
    "### 04_escape_seq"
   ]
  },
  {
   "cell_type": "code",
   "execution_count": null,
   "id": "fb18d31c",
   "metadata": {},
   "outputs": [
    {
     "name": "stdout",
     "output_type": "stream",
     "text": [
      "The quick brown fox \n",
      " jumps over the lazy 'dog'\n"
     ]
    }
   ],
   "source": [
    "a = 'The quick brown fox \\n jumps over the lazy \\'dog\\'' \n",
    "\n",
    "\n",
    "print(a)"
   ]
  },
  {
   "cell_type": "markdown",
   "id": "bfb13202",
   "metadata": {},
   "source": [
    "# In Depth"
   ]
  },
  {
   "cell_type": "code",
   "execution_count": null,
   "id": "1d3898ba",
   "metadata": {},
   "outputs": [],
   "source": [
    "letter = 'P'                # A string could be a single character or a bunch of texts\n",
    "print(letter)               # P\n",
    "print(len(letter))          # 1\n",
    "greeting = 'Hello, World!'  # String could be made using a single or double quote,\"Hello, World!\"\n",
    "print(greeting)             # Hello, World!\n",
    "print(len(greeting))        # 13\n",
    "sentence = \"I hope you are enjoying 30 days of Python Challenge\"\n",
    "print(sentence)"
   ]
  },
  {
   "cell_type": "markdown",
   "id": "a43ae7f3",
   "metadata": {},
   "source": [
    "### Multiline string is created by using triple single (''') or triple double quotes (\"\"\"). See the example below."
   ]
  },
  {
   "cell_type": "code",
   "execution_count": null,
   "id": "9590983f",
   "metadata": {},
   "outputs": [],
   "source": [
    "multiline_string = '''I am a teacher and enjoy teaching.\n",
    "I didn't find anything as rewarding as empowering people.\n",
    "That is why I created this python cource.'''\n",
    "print(multiline_string)\n",
    "\n",
    "# Another way of doing the same thing\n",
    "multiline_string = \"\"\"I am a teacher and enjoy teaching.\n",
    "I didn't find anything as rewarding as empowering people.\n",
    "That is why I created this python cource.\"\"\"\n",
    "print(multiline_string)\n"
   ]
  },
  {
   "attachments": {
    "image.png": {
     "image/png": "[encoded data removed]"
    }
   },
   "cell_type": "markdown",
   "id": "f237da15",
   "metadata": {},
   "source": [
    "Accessing Characters in Strings by Index\n",
    "In programming counting starts from zero. Therefore the first letter of a string is at zero index and the last letter of a string is the length of a string minus one.\n",
    "\n",
    "![image.png](attachment:image.png)"
   ]
  },
  {
   "cell_type": "code",
   "execution_count": 41,
   "id": "3d791b40",
   "metadata": {},
   "outputs": [
    {
     "name": "stdout",
     "output_type": "stream",
     "text": [
      "P\n",
      "y\n",
      "5\n",
      "n\n"
     ]
    }
   ],
   "source": [
    "language = 'Python'\n",
    "first_letter = language[0]\n",
    "print(first_letter) # P\n",
    "second_letter = language[1]\n",
    "print(second_letter) # y\n",
    "last_index = len(language) - 1\n",
    "print(last_index)\n",
    "last_letter = language[last_index]\n",
    "print(last_letter) # n"
   ]
  },
  {
   "cell_type": "markdown",
   "id": "e0b1981c",
   "metadata": {},
   "source": [
    "Slicing Python Strings\n",
    "In python we can slice strings into substrings."
   ]
  },
  {
   "cell_type": "code",
   "execution_count": null,
   "id": "67e32a34",
   "metadata": {},
   "outputs": [],
   "source": [
    "language = 'Python'\n",
    "first_three = language[0:3] # starts at zero index and up to 3 but not include 3\n",
    "print(first_three) #Pyt\n",
    "last_three = language[3:6]\n",
    "print(last_three) # hon\n",
    "# Another way\n",
    "last_three = language[-3:]\n",
    "print(last_three)   # hon\n",
    "last_three = language[3:]\n",
    "print(last_three)   # hon"
   ]
  },
  {
   "cell_type": "markdown",
   "id": "7f16e489",
   "metadata": {},
   "source": [
    "## Asked in interview "
   ]
  },
  {
   "cell_type": "code",
   "execution_count": 42,
   "id": "c14f080b",
   "metadata": {},
   "outputs": [
    {
     "name": "stdout",
     "output_type": "stream",
     "text": [
      "!dlroW ,olleH\n"
     ]
    }
   ],
   "source": [
    "greeting = 'Hello, World!'\n",
    "print(greeting[::-1]) # !dlroW ,olleH"
   ]
  },
  {
   "cell_type": "code",
   "execution_count": null,
   "id": "d5489481",
   "metadata": {},
   "outputs": [],
   "source": []
  }
 ],
 "metadata": {
  "kernelspec": {
   "display_name": ".venv",
   "language": "python",
   "name": "python3"
  },
  "language_info": {
   "codemirror_mode": {
    "name": "ipython",
    "version": 3
   },
   "file_extension": ".py",
   "mimetype": "text/x-python",
   "name": "python",
   "nbconvert_exporter": "python",
   "pygments_lexer": "ipython3",
   "version": "3.10.1"
  }
 },
 "nbformat": 4,
 "nbformat_minor": 5
}
