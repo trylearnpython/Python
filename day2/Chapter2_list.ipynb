{
 "cells": [
  {
   "cell_type": "markdown",
   "id": "87cef7bf",
   "metadata": {},
   "source": [
    "## LISTS\n",
    "### 01_list"
   ]
  },
  {
   "cell_type": "code",
   "execution_count": null,
   "id": "7441937a",
   "metadata": {},
   "outputs": [],
   "source": [
    "# syntax\n",
    "lst = list()"
   ]
  },
  {
   "cell_type": "code",
   "execution_count": null,
   "id": "51c34cf0",
   "metadata": {},
   "outputs": [],
   "source": [
    "# syntax\n",
    "lst = []"
   ]
  },
  {
   "cell_type": "code",
   "execution_count": null,
   "id": "dfeecde6",
   "metadata": {},
   "outputs": [],
   "source": [
    "empty_list = [] # this is an empty list, no item in the list\n",
    "print(len(empty_list)) # 0"
   ]
  },
  {
   "cell_type": "code",
   "execution_count": null,
   "id": "1ed55f07",
   "metadata": {},
   "outputs": [],
   "source": [
    "fruits = ['banana', 'orange', 'mango', 'lemon']        \n",
    "#print(type(fruits))\n",
    "print(fruits)"
   ]
  },
  {
   "cell_type": "code",
   "execution_count": null,
   "id": "4f50980d",
   "metadata": {},
   "outputs": [],
   "source": [
    "fruits = ['banana', 'orange', 'mango', 'lemon']                     # list of fruits\n",
    "vegetables = ['Tomato', 'Potato', 'Cabbage','Onion', 'Carrot']      # list of vegetables\n",
    "animal_products = ['milk', 'meat', 'butter', 'yoghurt']             # list of animal products\n",
    "web_techs = ['HTML', 'CSS', 'JS', 'React','Redux', 'Node', 'MongDB'] # list of web technologies\n",
    "countries = ['Finland', 'Estonia', 'Denmark', 'Sweden', 'Norway']\n",
    "\n",
    "# Print the lists and its length\n",
    "print('Fruits:', fruits)\n",
    "print('Number of fruits:', len(fruits))\n",
    "print('Vegetables:', vegetables)\n",
    "print('Number of vegetables:', len(vegetables))\n",
    "print('Animal products:',animal_products)\n",
    "print('Number of animal products:', len(animal_products))\n",
    "print('Web technologies:', web_techs)\n",
    "print('Number of web technologies:', len(web_techs))\n",
    "print('Countries:', countries)\n",
    "print('Number of countries:', len(countries))"
   ]
  },
  {
   "cell_type": "code",
   "execution_count": null,
   "id": "57f97c87",
   "metadata": {},
   "outputs": [],
   "source": [
    "lst = ['Asabeneh', 250, True, {'country':'Finland', 'city':'Helsinki'}] # list containing different data types"
   ]
  },
  {
   "cell_type": "code",
   "execution_count": null,
   "id": "6e160e06",
   "metadata": {},
   "outputs": [],
   "source": [
    "print(lst)"
   ]
  },
  {
   "cell_type": "markdown",
   "id": "53c04fc0",
   "metadata": {},
   "source": [
    "Accessing List Items Using Positive Indexing"
   ]
  },
  {
   "cell_type": "code",
   "execution_count": null,
   "id": "76665486",
   "metadata": {},
   "outputs": [],
   "source": [
    "fruits = ['banana', 'orange', 'mango', 'lemon']\n",
    "first_fruit = fruits[0] # we are accessing the first item using its index\n",
    "print(first_fruit)      # banana\n",
    "second_fruit = fruits[1]\n",
    "print(second_fruit)     # orange\n",
    "last_fruit = fruits[3]\n",
    "print(last_fruit) # lemon\n",
    "# # Last index\n",
    "last_index = len(fruits) - 1\n",
    "last_fruit = fruits[last_index]\n",
    "print('Last Index: ', last_fruit)"
   ]
  },
  {
   "attachments": {
    "image.png": {
     "image/png": "[encoded data removed]"
    }
   },
   "cell_type": "markdown",
   "id": "346536bf",
   "metadata": {},
   "source": [
    "### Accessing List Items Using Negative Indexing\n",
    "Negative indexing means beginning from the end, -1 refers to the last item, -2 refers to the second last item.\n",
    "![image.png](attachment:image.png)"
   ]
  },
  {
   "cell_type": "code",
   "execution_count": null,
   "id": "a88014ea",
   "metadata": {},
   "outputs": [],
   "source": [
    "fruits = ['banana', 'orange', 'mango', 'lemon']\n",
    "first_fruit = fruits[-4]\n",
    "last_fruit = fruits[-1]\n",
    "second_last = fruits[-2]\n",
    "print(first_fruit)      # banana\n",
    "print(last_fruit)       # lemon\n",
    "print(second_last)      # mango"
   ]
  },
  {
   "cell_type": "markdown",
   "id": "71dbba7f",
   "metadata": {},
   "source": [
    "### Modifying Lists\n",
    "List is a mutable or modifiable ordered collection of items. Lets modify the fruit list."
   ]
  },
  {
   "cell_type": "code",
   "execution_count": null,
   "id": "19320504",
   "metadata": {},
   "outputs": [],
   "source": [
    "friends = [\"Apple\", \"Orange\", 5, 345.06, False, \"Aakash\", \"Rohan\"]\n",
    "\n",
    "print(friends[0])\n",
    "friends[0] = \"Grapes\" # Unlike Strings lists are mutable\n",
    "print(friends)\n",
    "print(friends[0])\n",
    "print(friends[1:4])"
   ]
  },
  {
   "cell_type": "markdown",
   "id": "08045836",
   "metadata": {},
   "source": [
    "Checking Items in a List\n",
    "* Checking an item if it is a member of a list using in operator. See the example below."
   ]
  },
  {
   "cell_type": "code",
   "execution_count": null,
   "id": "b0a51a27",
   "metadata": {},
   "outputs": [],
   "source": [
    "fruits = ['banana', 'orange', 'mango', 'lemon', 'lime']\n",
    "does_exist = 'banana' in fruits\n",
    "print(does_exist)  # True\n",
    "does_exist = 'mango' in fruits\n",
    "print(does_exist)  # False"
   ]
  },
  {
   "cell_type": "markdown",
   "id": "dd28ff2c",
   "metadata": {},
   "source": [
    "### 02_list_methods"
   ]
  },
  {
   "cell_type": "code",
   "execution_count": 43,
   "id": "65fd59dc",
   "metadata": {},
   "outputs": [
    {
     "name": "stdout",
     "output_type": "stream",
     "text": [
      "['345.06', '5', 'Aakash', 'Apple', 'False', 'Orange', 'Rohan']\n",
      "[1, 2, 6, 11, 34, 62]\n"
     ]
    }
   ],
   "source": [
    "friends = [\"Apple\", \"Orange\", '5', '345.06', 'False', \"Aakash\", \"Rohan\"]\n",
    "\n",
    "friends.sort()\n",
    "\n",
    "print(friends)\n",
    "# friends.append(\"Dhruv\")\n",
    "# print(friends)\n",
    "\n",
    "l1 = [1, 34,62, 2, 6, 11]\n",
    "l1.sort()\n",
    "print(l1)\n",
    "# l1.reverse()\n",
    "# l1.insert(2, 333333) # Insert 333333 such that its index in the list is 3\n",
    "# value = l1.pop(3)\n",
    "# print(value)\n",
    "# print(l1)"
   ]
  },
  {
   "cell_type": "markdown",
   "id": "5467d16b",
   "metadata": {},
   "source": [
    "Inserting Items into a List\n",
    "* We can use insert() method to insert a single item at a specified index in a list. Note that other items are shifted to the right. The insert() methods takes two arguments:index and an item to insert."
   ]
  },
  {
   "cell_type": "code",
   "execution_count": 44,
   "id": "6ac41368",
   "metadata": {},
   "outputs": [
    {
     "name": "stdout",
     "output_type": "stream",
     "text": [
      "['banana', 'orange', 'apple', 'mango', 'lemon']\n",
      "['banana', 'orange', 'apple', 'lime', 'mango', 'lemon']\n"
     ]
    }
   ],
   "source": [
    "fruits = ['banana', 'orange', 'mango', 'lemon']\n",
    "fruits.insert(2, 'apple') # insert apple between orange and mango\n",
    "print(fruits)           # ['banana', 'orange', 'apple', 'mango', 'lemon']\n",
    "fruits.insert(3, 'lime')   # ['banana', 'orange', 'apple', 'lime', 'mango', 'lemon']\n",
    "print(fruits)"
   ]
  },
  {
   "cell_type": "markdown",
   "id": "e032aa9a",
   "metadata": {},
   "source": [
    "There are several ways to join, or concatenate, two or more lists in Python.\n",
    "\n",
    "* Plus Operator (+)"
   ]
  },
  {
   "cell_type": "code",
   "execution_count": 45,
   "id": "4678a65b",
   "metadata": {},
   "outputs": [
    {
     "name": "stdout",
     "output_type": "stream",
     "text": [
      "[-5, -4, -3, -2, -1, 0, 1, 2, 3, 4, 5]\n",
      "['banana', 'orange', 'mango', 'lemon', 'Tomato', 'Potato', 'Cabbage', 'Onion', 'Carrot']\n"
     ]
    }
   ],
   "source": [
    "positive_numbers = [1, 2, 3, 4, 5]\n",
    "zero = [0]\n",
    "negative_numbers = [-5,-4,-3,-2,-1]\n",
    "integers = negative_numbers + zero + positive_numbers\n",
    "print(integers) # [-5, -4, -3, -2, -1, 0, 1, 2, 3, 4, 5]\n",
    "fruits = ['banana', 'orange', 'mango', 'lemon']\n",
    "vegetables = ['Tomato', 'Potato', 'Cabbage', 'Onion', 'Carrot']\n",
    "fruits_and_vegetables = fruits + vegetables\n",
    "print(fruits_and_vegetables ) # ['banana', 'orange', 'mango', 'lemon', 'Tomato', 'Potato', 'Cabbage', 'Onion', 'Carrot']"
   ]
  },
  {
   "cell_type": "markdown",
   "id": "6ad900e1",
   "metadata": {},
   "source": [
    "Counting Items in a List\n",
    "* The count() method returns the number of times an item appears in a list:"
   ]
  },
  {
   "cell_type": "code",
   "execution_count": null,
   "id": "1c232793",
   "metadata": {},
   "outputs": [],
   "source": [
    "varStr = \"google\""
   ]
  },
  {
   "cell_type": "code",
   "execution_count": 46,
   "id": "5746c98b",
   "metadata": {},
   "outputs": [
    {
     "name": "stdout",
     "output_type": "stream",
     "text": [
      "1\n",
      "3\n"
     ]
    }
   ],
   "source": [
    "fruits = ['banana', 'orange', 'mango', 'lemon']\n",
    "print(fruits.count('orange'))   # 1\n",
    "ages = [22, 19, 24, 25, 26, 24, 25, 24]\n",
    "print(ages.count(24))           # 3"
   ]
  },
  {
   "cell_type": "markdown",
   "id": "a000ee71",
   "metadata": {},
   "source": [
    "Finding Index of an Item\n",
    "The index() method returns the index of an item in the list:"
   ]
  },
  {
   "cell_type": "code",
   "execution_count": 47,
   "id": "725c897d",
   "metadata": {},
   "outputs": [
    {
     "name": "stdout",
     "output_type": "stream",
     "text": [
      "1\n",
      "2\n"
     ]
    }
   ],
   "source": [
    "fruits = ['banana', 'orange', 'mango', 'lemon']\n",
    "print(fruits.index('orange'))   # 1\n",
    "ages = [22, 19, 24, 25, 26, 24, 25, 24]\n",
    "print(ages.index(24))           # 2, the first occurrence"
   ]
  },
  {
   "cell_type": "markdown",
   "id": "8e3a83a0",
   "metadata": {},
   "source": [
    "sort(): this method modifies the original list"
   ]
  },
  {
   "cell_type": "code",
   "execution_count": 48,
   "id": "3f425a79",
   "metadata": {},
   "outputs": [
    {
     "name": "stdout",
     "output_type": "stream",
     "text": [
      "['banana', 'lemon', 'mango', 'orange']\n",
      "['orange', 'mango', 'lemon', 'banana']\n",
      "[19, 22, 24, 24, 24, 25, 25, 26]\n",
      "[26, 25, 25, 24, 24, 24, 22, 19]\n"
     ]
    }
   ],
   "source": [
    "fruits = ['banana', 'orange', 'mango', 'lemon']\n",
    "fruits.sort()\n",
    "print(fruits)             # sorted in alphabetical order, ['banana', 'lemon', 'mango', 'orange']\n",
    "fruits.sort(reverse=True)\n",
    "print(fruits) # ['orange', 'mango', 'lemon', 'banana']\n",
    "ages = [22, 19, 24, 25, 26, 24, 25, 24]\n",
    "ages.sort()\n",
    "print(ages) #  [19, 22, 24, 24, 24, 25, 25, 26]\n",
    "\n",
    "ages.sort(reverse=True)\n",
    "print(ages) #  [26, 25, 25, 24, 24, 24, 22, 19]"
   ]
  }
 ],
 "metadata": {
  "kernelspec": {
   "display_name": ".venv",
   "language": "python",
   "name": "python3"
  },
  "language_info": {
   "codemirror_mode": {
    "name": "ipython",
    "version": 3
   },
   "file_extension": ".py",
   "mimetype": "text/x-python",
   "name": "python",
   "nbconvert_exporter": "python",
   "pygments_lexer": "ipython3",
   "version": "3.10.1"
  }
 },
 "nbformat": 4,
 "nbformat_minor": 5
}
