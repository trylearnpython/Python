{
 "cells": [
  {
   "cell_type": "code",
   "execution_count": null,
   "id": "796c12a8",
   "metadata": {},
   "outputs": [],
   "source": [
    "print(\"Hello World!\")"
   ]
  },
  {
   "cell_type": "markdown",
   "id": "35932276",
   "metadata": {},
   "source": [
    "# We installed Required softwares \n",
    "# Git Repo\n",
    "# Hello world"
   ]
  },
  {
   "cell_type": "markdown",
   "id": "df0b544e",
   "metadata": {},
   "source": [
    "len(\"\")"
   ]
  },
  {
   "cell_type": "code",
   "execution_count": null,
   "id": "1c548c76",
   "metadata": {},
   "outputs": [],
   "source": [
    "len(\"Hello\")"
   ]
  },
  {
   "cell_type": "code",
   "execution_count": null,
   "id": "01ff38a2",
   "metadata": {},
   "outputs": [],
   "source": [
    "type(\"hello\")"
   ]
  },
  {
   "cell_type": "code",
   "execution_count": null,
   "id": "f1a0e31a",
   "metadata": {},
   "outputs": [],
   "source": [
    "type(10)"
   ]
  },
  {
   "cell_type": "code",
   "execution_count": null,
   "id": "568a04fe",
   "metadata": {},
   "outputs": [],
   "source": [
    "type(str(10))"
   ]
  },
  {
   "cell_type": "markdown",
   "id": "19679527",
   "metadata": {},
   "source": [
    "## str 'hello'"
   ]
  },
  {
   "cell_type": "code",
   "execution_count": null,
   "id": "1dfbf4d9",
   "metadata": {},
   "outputs": [],
   "source": [
    "int('10')"
   ]
  },
  {
   "cell_type": "code",
   "execution_count": null,
   "id": "b9f52f48",
   "metadata": {},
   "outputs": [],
   "source": [
    "float(10.1)"
   ]
  },
  {
   "cell_type": "code",
   "execution_count": null,
   "id": "98dcf963",
   "metadata": {},
   "outputs": [],
   "source": [
    "var = input(\"hello\")\n",
    "print(var)"
   ]
  },
  {
   "cell_type": "markdown",
   "id": "6174b24b",
   "metadata": {},
   "source": [
    "int\n",
    "float\n",
    "str"
   ]
  },
  {
   "cell_type": "code",
   "execution_count": null,
   "id": "79b042c3",
   "metadata": {},
   "outputs": [],
   "source": [
    "print(10/35)"
   ]
  },
  {
   "cell_type": "code",
   "execution_count": null,
   "id": "c1eb6f06",
   "metadata": {},
   "outputs": [],
   "source": [
    "help('keywords')"
   ]
  },
  {
   "cell_type": "code",
   "execution_count": null,
   "id": "87bb50d8",
   "metadata": {},
   "outputs": [],
   "source": [
    "var = 0\n",
    "\n",
    "print(var)"
   ]
  },
  {
   "cell_type": "code",
   "execution_count": null,
   "id": "49a465c5",
   "metadata": {},
   "outputs": [],
   "source": [
    "help(str)"
   ]
  },
  {
   "cell_type": "code",
   "execution_count": null,
   "id": "054e5ad9",
   "metadata": {},
   "outputs": [],
   "source": [
    "print(min(100,20,30,25,30))"
   ]
  },
  {
   "cell_type": "code",
   "execution_count": null,
   "id": "e4b3592b",
   "metadata": {},
   "outputs": [],
   "source": [
    "print(max(100,20,30,25,30))"
   ]
  },
  {
   "cell_type": "code",
   "execution_count": null,
   "id": "15ee0702",
   "metadata": {},
   "outputs": [],
   "source": [
    "print(min([100,20,30,25,30]))"
   ]
  },
  {
   "cell_type": "code",
   "execution_count": null,
   "id": "3927ddfb",
   "metadata": {},
   "outputs": [],
   "source": [
    "num_int1 = 10\n",
    "num2 = 13\n",
    "\n",
    "\n",
    "print(num_int1 + num2)"
   ]
  },
  {
   "cell_type": "code",
   "execution_count": null,
   "id": "e7f87946",
   "metadata": {},
   "outputs": [],
   "source": [
    "\n"
   ]
  },
  {
   "cell_type": "markdown",
   "id": "0272e0e5",
   "metadata": {},
   "source": [
    "=\n",
    "+=\n",
    "-=\n",
    "*=\n",
    "\n",
    "x = 10\n",
    "\n",
    "/=\n",
    "%\n",
    "//\n",
    "&\n",
    "|\n"
   ]
  },
  {
   "cell_type": "code",
   "execution_count": null,
   "id": "e9ca80ef",
   "metadata": {},
   "outputs": [],
   "source": [
    "x = 10\n",
    "print(x)\n"
   ]
  },
  {
   "cell_type": "code",
   "execution_count": null,
   "id": "e43c73ee",
   "metadata": {},
   "outputs": [],
   "source": [
    "y = x\n",
    "y = y + x \n",
    "y += x\n",
    "print(y)\n"
   ]
  },
  {
   "cell_type": "code",
   "execution_count": null,
   "id": "f3ce06f8",
   "metadata": {},
   "outputs": [],
   "source": [
    "a =2\n",
    "b =3\n",
    "total = a +b\n",
    "print(total)"
   ]
  },
  {
   "cell_type": "markdown",
   "id": "3beb3edc",
   "metadata": {},
   "source": []
  },
  {
   "cell_type": "code",
   "execution_count": null,
   "id": "305a6abf",
   "metadata": {},
   "outputs": [],
   "source": [
    "print('complex number', (1 + 1j))"
   ]
  },
  {
   "cell_type": "code",
   "execution_count": null,
   "id": "8e4bb755",
   "metadata": {},
   "outputs": [],
   "source": [
    "print('mult', (1 + 1j) * (1- 1j))"
   ]
  },
  {
   "cell_type": "code",
   "execution_count": null,
   "id": "5ba59b7c",
   "metadata": {},
   "outputs": [],
   "source": [
    "print(type(True))"
   ]
  },
  {
   "cell_type": "code",
   "execution_count": null,
   "id": "f9545622",
   "metadata": {},
   "outputs": [],
   "source": [
    "%pip install pyjokes"
   ]
  },
  {
   "cell_type": "code",
   "execution_count": null,
   "id": "a3c6a982",
   "metadata": {},
   "outputs": [],
   "source": [
    "import pyjokes \n",
    "\n",
    "joke = pyjokes.get_joke(language='en')\n",
    "\n",
    "print(joke)\n"
   ]
  }
 ],
 "metadata": {
  "kernelspec": {
   "display_name": ".venv",
   "language": "python",
   "name": "python3"
  },
  "language_info": {
   "codemirror_mode": {
    "name": "ipython",
    "version": 3
   },
   "file_extension": ".py",
   "mimetype": "text/x-python",
   "name": "python",
   "nbconvert_exporter": "python",
   "pygments_lexer": "ipython3",
   "version": "3.10.1"
  }
 },
 "nbformat": 4,
 "nbformat_minor": 5
}
